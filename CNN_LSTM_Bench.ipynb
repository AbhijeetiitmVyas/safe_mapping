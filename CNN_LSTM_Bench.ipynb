{
 "cells": [
  {
   "cell_type": "markdown",
   "metadata": {},
   "source": [
    "# Active-Reinforcement Learning"
   ]
  },
  {
   "cell_type": "code",
   "execution_count": 1,
   "metadata": {},
   "outputs": [],
   "source": [
    "import torch\n",
    "import numpy as np\n",
    "import torchvision\n",
    "from matplotlib import pyplot as plt\n",
    "import torch.nn as nn\n",
    "from copy import deepcopy\n",
    "import time\n",
    "import torch.nn.functional as F\n",
    "import sys\n",
    "\n",
    "device = \"cuda:1\"\n",
    "\n",
    "# c = np.random.randn(3,2)\n",
    "# c=np.clip(a_min=-2.0,a_max=2.0,a=c)\n",
    "def labels(x,c):\n",
    "    \n",
    "    d=c-x\n",
    "    d=np.clip(a_min=-0.5,a_max=0.5,a=d)-d\n",
    "    \n",
    "    for i in d:\n",
    "        if i[0]==0 and i[1]==0:\n",
    "             return(1)\n",
    "    else: return(0.2)\n",
    "    \n",
    "def labels_diff_shape(x,c):\n",
    "    \n",
    "    d=c-x\n",
    "    d1=np.clip(a_min=-0.5,a_max=0.5,a=d)-d\n",
    "    d1_prox = []\n",
    "    d2=np.clip(a_min=-0.5,a_max=0.9,a=d)-d\n",
    "    d2_prox = []\n",
    "\n",
    "    for i in d1:\n",
    "        if i[0]==0 and i[1]==0:\n",
    "             d1_prox.append(1)\n",
    "        else: d1_prox.append(0)\n",
    "    for i in d2:\n",
    "        if i[0]==0 and i[1]==0:\n",
    "             d2_prox.append(1)\n",
    "        else: d2_prox.append(0)\n",
    "\n",
    "    if (d1_prox[0]==1 and d2_prox[0]==1) or (d1_prox[1]==1) or (d2_prox[0]==1):\n",
    "        return(1)\n",
    "    else: return(0.2)  \n",
    "    "
   ]
  },
  {
   "cell_type": "markdown",
   "metadata": {},
   "source": [
    "## Create True Maps"
   ]
  },
  {
   "cell_type": "code",
   "execution_count": 2,
   "metadata": {},
   "outputs": [],
   "source": [
    "import numpy as np\n",
    "\n",
    "X_MIN, X_MAX, Y_MIN, Y_MAX = -2.5, 2.5, -2.5, 2.5\n",
    "TABLE_X_LENGTH, TABLE_Y_LENGTH = 1, 1\n",
    "SOFA_X_LENGTH, SOFA_Y_LENGTH = 1, 1\n",
    "map_scale = 32\n",
    "\n",
    "def random_table_sofa_centers(n_tables, n_sofas):\n",
    "    \"\"\"\n",
    "    Generate random table center locations within the bounds of the room and not\n",
    "    overlapping with each other.\n",
    "\n",
    "    :param n_tables: The number of table centers to generate\n",
    "    :return: The table centers in a list of [x, y] pairs\n",
    "    \"\"\"\n",
    "    def is_overlap(table_centers, sofa_centers, new_x, new_y, new_x_len, new_y_len):\n",
    "        overlap = False\n",
    "        for x, y in table_centers:\n",
    "            if (abs(x - new_x) < (TABLE_X_LENGTH + new_x_len) / 2 and \n",
    "                abs(y - new_y) < (TABLE_Y_LENGTH + new_y_len) / 2):\n",
    "                overlap = True\n",
    "        for x, y in sofa_centers:\n",
    "            if (abs(x - new_x) < (SOFA_X_LENGTH + new_x_len) / 2 and \n",
    "                abs(y - new_y) < (SOFA_Y_LENGTH + new_y_len) / 2):\n",
    "                overlap = True\n",
    "        return overlap\n",
    "\n",
    "    table_centers, sofa_centers = [], []\n",
    "    for _ in range(n_tables):\n",
    "        new_x = X_MIN + TABLE_X_LENGTH / 2 + np.random.rand() * (X_MAX - X_MIN - TABLE_X_LENGTH)\n",
    "        new_y = Y_MIN + TABLE_Y_LENGTH / 2 + np.random.rand() * (Y_MAX - Y_MIN - TABLE_Y_LENGTH)\n",
    "        while is_overlap(table_centers, sofa_centers, new_x, new_y, TABLE_X_LENGTH, TABLE_Y_LENGTH):\n",
    "            new_x = X_MIN + TABLE_X_LENGTH / 2 + np.random.rand() * (X_MAX - X_MIN - TABLE_X_LENGTH)\n",
    "            new_y = Y_MIN + TABLE_Y_LENGTH / 2 + np.random.rand() * (Y_MAX - Y_MIN - TABLE_Y_LENGTH)\n",
    "        table_centers.append([new_x, new_y])\n",
    "    for _ in range(n_sofas):\n",
    "        new_x = X_MIN + SOFA_X_LENGTH / 2 + np.random.rand() * (X_MAX - X_MIN - SOFA_X_LENGTH)\n",
    "        new_y = Y_MIN + SOFA_Y_LENGTH / 2 + np.random.rand() * (Y_MAX - Y_MIN - SOFA_Y_LENGTH)\n",
    "        while is_overlap(table_centers, sofa_centers, new_x, new_y, SOFA_X_LENGTH, SOFA_Y_LENGTH):\n",
    "            new_x = X_MIN + SOFA_X_LENGTH / 2 + np.random.rand() * (X_MAX - X_MIN - SOFA_X_LENGTH)\n",
    "            new_y = Y_MIN + SOFA_Y_LENGTH / 2 + np.random.rand() * (Y_MAX - Y_MIN - SOFA_Y_LENGTH)\n",
    "        sofa_centers.append([new_x, new_y])\n",
    "    return table_centers, sofa_centers\n",
    "room_center=[]\n",
    "for i in range(200):\n",
    "    temp = random_table_sofa_centers(5,0)\n",
    "    room_center.append(temp[0])\n",
    "c_rooms = np.stack(room_center)"
   ]
  },
  {
   "cell_type": "markdown",
   "metadata": {},
   "source": [
    "## Create Images for input\n",
    "### Using ground truth"
   ]
  },
  {
   "cell_type": "markdown",
   "metadata": {},
   "source": [
    "# Centers"
   ]
  },
  {
   "cell_type": "code",
   "execution_count": 3,
   "metadata": {},
   "outputs": [],
   "source": [
    "xc=np.random.randint(low=-150,high=150,size=(200,30,2))"
   ]
  },
  {
   "cell_type": "code",
   "execution_count": 4,
   "metadata": {
    "scrolled": true
   },
   "outputs": [],
   "source": [
    "# from labeller\n",
    "# imgs_in=[]\n",
    "# for i,room in enumerate(xc):\n",
    "#     temp = []\n",
    "#     for j in room:\n",
    "#         temp_img=[]\n",
    "#         temp_x = np.arange(j[0]-100,j[0]+100,5)\n",
    "#         temp_y = np.arange(j[1]-100,j[1]+100,5)\n",
    "#         x,y=np.meshgrid(temp_x,temp_y)\n",
    "#         for k in np.append(x.reshape(1,1600).T,y.reshape(1,1600).T,1):\n",
    "#             temp_img.append(labels(k/100,c_rooms[i]))\n",
    "#         temp_img=np.array(temp_img)\n",
    "#         temp.append(temp_img.reshape(40,40))\n",
    "#     imgs_in.append(temp)\n",
    "    \n",
    "        "
   ]
  },
  {
   "cell_type": "code",
   "execution_count": 5,
   "metadata": {},
   "outputs": [],
   "source": [
    "def inp_image_from_truth(true_map,xy):\n",
    "    xy[0]+=2.5\n",
    "    xy[1]+=2.5\n",
    "    xy[0]/=0.05\n",
    "    xy[1]/=0.05  \n",
    "    a = np.int(np.floor(xy[0]))\n",
    "    b = np.int(np.floor(xy[1]))\n",
    "    return(true_map[a-20:a+20,b-20:b+20])"
   ]
  },
  {
   "cell_type": "markdown",
   "metadata": {},
   "source": [
    "### Create Padded input images"
   ]
  },
  {
   "cell_type": "markdown",
   "metadata": {},
   "source": [
    "#### For GVM"
   ]
  },
  {
   "cell_type": "code",
   "execution_count": 6,
   "metadata": {},
   "outputs": [],
   "source": [
    "def pad_images(image,xy):\n",
    "    c_x = xy[0]/0.05+50\n",
    "    c_y = xy[1]/0.05+50\n",
    "    x_0 =int(c_x%10)\n",
    "    y_0 = int(c_y%10)\n",
    "    image_new = np.zeros((2,50,50))\n",
    "    image_new[0,x_0:x_0+40,y_0:y_0+40] = 1\n",
    "    image_new[1,x_0:x_0+40,y_0:y_0+40] = image\n",
    "    return(image_new)\n",
    "    "
   ]
  },
  {
   "cell_type": "markdown",
   "metadata": {},
   "source": [
    "#### For LSTM-CNN"
   ]
  },
  {
   "cell_type": "code",
   "execution_count": 7,
   "metadata": {},
   "outputs": [],
   "source": [
    "def pad_images_LSTM(image,xy):\n",
    "    c_x = xy[0]/0.05+50\n",
    "    c_y = xy[1]/0.05+50\n",
    "    x_0 = int(c_x//10)*10\n",
    "    y_0 = int(c_y//10)*10\n",
    "    \n",
    "    image_new = np.zeros((2,100,100))\n",
    "    image_new[0,x_0-20:x_0+30,y_0-20:y_0+30] = image[0]\n",
    "    image_new[1,x_0-20:x_0+30,y_0-20:y_0+30] = image[1]\n",
    "    return(image_new)\n",
    "    "
   ]
  },
  {
   "cell_type": "markdown",
   "metadata": {},
   "source": [
    "## Create True Map"
   ]
  },
  {
   "cell_type": "code",
   "execution_count": 8,
   "metadata": {},
   "outputs": [],
   "source": [
    "def create_true_map(centres):\n",
    "    #select uniformly\n",
    "    xm=np.arange(-2.5,2.5,0.05)\n",
    "    ym=np.arange(-2.5,2.5,0.05)\n",
    "    xm,ym = np.meshgrid(xm,ym)\n",
    "    map_samp = np.append(xm.reshape(1,10000).T,ym.reshape(1,10000).T,1)\n",
    "    #label Uniform Points\n",
    "    true_map = []\n",
    "    for j in range(10000):\n",
    "        true_map.append(labels(map_samp[j],centres))\n",
    "    return(np.array(true_map).reshape(100,100))"
   ]
  },
  {
   "cell_type": "code",
   "execution_count": 9,
   "metadata": {},
   "outputs": [],
   "source": [
    "true_maps = []\n",
    "for i in c_rooms:\n",
    "    true_maps.append(create_true_map(i))"
   ]
  },
  {
   "cell_type": "code",
   "execution_count": 10,
   "metadata": {},
   "outputs": [],
   "source": [
    "imgs_in=[]\n",
    "for i,room in enumerate(xc):\n",
    "    temp = []\n",
    "    for j in room:\n",
    "        temp_img=inp_image_from_truth(true_maps[i],j/100)\n",
    "        temp.append(temp_img)\n",
    "    imgs_in.append(temp)"
   ]
  },
  {
   "cell_type": "markdown",
   "metadata": {},
   "source": [
    "## Plot True Maps"
   ]
  },
  {
   "cell_type": "code",
   "execution_count": 11,
   "metadata": {},
   "outputs": [
    {
     "data": {
      "text/plain": [
       "<matplotlib.image.AxesImage at 0x7faeff84d128>"
      ]
     },
     "execution_count": 11,
     "metadata": {},
     "output_type": "execute_result"
    },
    {
     "data": {
      "image/png": "[encoded data removed]",
      "text/plain": [
       "<matplotlib.figure.Figure at 0x7fafd03ecf98>"
      ]
     },
     "metadata": {
      "needs_background": "light"
     },
     "output_type": "display_data"
    }
   ],
   "source": [
    "plt.imshow(true_maps[0])"
   ]
  },
  {
   "cell_type": "markdown",
   "metadata": {},
   "source": [
    "# pad input data"
   ]
  },
  {
   "cell_type": "code",
   "execution_count": 12,
   "metadata": {
    "scrolled": true
   },
   "outputs": [],
   "source": [
    "imgs_in_1 = deepcopy(imgs_in)\n",
    "imgs_in_2 = deepcopy(imgs_in)\n",
    "for rooms in range(200):\n",
    "    for j,image in enumerate(imgs_in[rooms]):\n",
    "        image = pad_images(image,xc[rooms][j]/100)\n",
    "        imgs_in_1[rooms][j] = image\n",
    "        imgs_in_2[rooms][j] = pad_images_LSTM(image,xc[rooms][j]/100)\n"
   ]
  },
  {
   "cell_type": "code",
   "execution_count": 13,
   "metadata": {},
   "outputs": [],
   "source": [
    "t=(int((xc[0][0][0]/5+50)//10)*10,int((xc[0][0][1]/5+50)//10)*10)"
   ]
  },
  {
   "cell_type": "code",
   "execution_count": 14,
   "metadata": {},
   "outputs": [
    {
     "data": {
      "text/plain": [
       "<matplotlib.image.AxesImage at 0x7faeff6f2fd0>"
      ]
     },
     "execution_count": 14,
     "metadata": {},
     "output_type": "execute_result"
    },
    {
     "data": {
      "image/png": "[encoded data removed]",
      "text/plain": [
       "<matplotlib.figure.Figure at 0x7faeff8960f0>"
      ]
     },
     "metadata": {
      "needs_background": "light"
     },
     "output_type": "display_data"
    }
   ],
   "source": [
    "plt.imshow(imgs_in_1[0][0][1])"
   ]
  },
  {
   "cell_type": "code",
   "execution_count": 15,
   "metadata": {
    "scrolled": true
   },
   "outputs": [
    {
     "data": {
      "text/plain": [
       "<matplotlib.image.AxesImage at 0x7faeff659438>"
      ]
     },
     "execution_count": 15,
     "metadata": {},
     "output_type": "execute_result"
    },
    {
     "data": {
      "image/png": "[encoded data removed]",
      "text/plain": [
       "<matplotlib.figure.Figure at 0x7fafd03eca58>"
      ]
     },
     "metadata": {
      "needs_background": "light"
     },
     "output_type": "display_data"
    }
   ],
   "source": [
    "plt.imshow(true_maps[0][t[0]-20:t[0]+30,t[1]-20:t[1]+30])"
   ]
  },
  {
   "cell_type": "code",
   "execution_count": 16,
   "metadata": {},
   "outputs": [
    {
     "data": {
      "text/plain": [
       "<matplotlib.image.AxesImage at 0x7faeff62ccf8>"
      ]
     },
     "execution_count": 16,
     "metadata": {},
     "output_type": "execute_result"
    },
    {
     "data": {
      "image/png": "[encoded data removed]",
      "text/plain": [
       "<matplotlib.figure.Figure at 0x7faeff6ab278>"
      ]
     },
     "metadata": {
      "needs_background": "light"
     },
     "output_type": "display_data"
    }
   ],
   "source": [
    "plt.imshow(imgs_in_2[0][0][1][t[0]-20:t[0]+30,t[1]-20:t[1]+30])"
   ]
  },
  {
   "cell_type": "code",
   "execution_count": null,
   "metadata": {},
   "outputs": [
    {
     "data": {
      "text/plain": [
       "<matplotlib.image.AxesImage at 0x7faeff586e10>"
      ]
     },
     "execution_count": 17,
     "metadata": {},
     "output_type": "execute_result"
    },
    {
     "data": {
      "image/png": "[encoded data removed]",
      "text/plain": [
       "<matplotlib.figure.Figure at 0x7faeff60c668>"
      ]
     },
     "metadata": {
      "needs_background": "light"
     },
     "output_type": "display_data"
    }
   ],
   "source": [
    "plt.imshow(imgs_in_2[0][0][1])"
   ]
  },
  {
   "cell_type": "code",
   "execution_count": null,
   "metadata": {
    "scrolled": true
   },
   "outputs": [
    {
     "data": {
      "text/plain": [
       "<matplotlib.image.AxesImage at 0x7faeff55fcf8>"
      ]
     },
     "execution_count": 18,
     "metadata": {},
     "output_type": "execute_result"
    },
    {
     "data": {
      "image/png": "[encoded data removed]",
      "text/plain": [
       "<matplotlib.figure.Figure at 0x7faeff5df780>"
      ]
     },
     "metadata": {
      "needs_background": "light"
     },
     "output_type": "display_data"
    }
   ],
   "source": [
    "plt.imshow(imgs_in[0][0])"
   ]
  },
  {
   "cell_type": "code",
   "execution_count": null,
   "metadata": {},
   "outputs": [],
   "source": [
    "def tensor(obj):\n",
    "    return torch.tensor(obj, device=device,dtype = torch.float)"
   ]
  },
  {
   "cell_type": "markdown",
   "metadata": {},
   "source": [
    "# Conv_LSTM"
   ]
  },
  {
   "cell_type": "code",
   "execution_count": null,
   "metadata": {},
   "outputs": [],
   "source": [
    "import torch.nn as nn\n",
    "from torch.autograd import Variable\n",
    "import torch\n",
    "\n",
    "\n",
    "class ConvLSTMCell(nn.Module):\n",
    "\n",
    "    def __init__(self, input_size, input_dim, hidden_dim, kernel_size, bias):\n",
    "        \"\"\"\n",
    "        Initialize ConvLSTM cell.\n",
    "        \n",
    "        Parameters\n",
    "        ----------\n",
    "        input_size: (int, int)\n",
    "            Height and width of input tensor as (height, width).\n",
    "        input_dim: int\n",
    "            Number of channels of input tensor.\n",
    "        hidden_dim: int\n",
    "            Number of channels of hidden state.\n",
    "        kernel_size: (int, int)\n",
    "            Size of the convolutional kernel.\n",
    "        bias: bool\n",
    "            Whether or not to add the bias.\n",
    "        \"\"\"\n",
    "\n",
    "        super(ConvLSTMCell, self).__init__()\n",
    "\n",
    "        self.height, self.width = input_size\n",
    "        self.input_dim  = input_dim\n",
    "        self.hidden_dim = hidden_dim\n",
    "\n",
    "        self.kernel_size = kernel_size\n",
    "        self.padding     = kernel_size[0] // 2, kernel_size[1] // 2\n",
    "        self.bias        = bias\n",
    "        self.features = nn.Sequential(  # 100x100\n",
    "            nn.Conv2d(2, 8, 5),  # 96x96\n",
    "            nn.ReLU(True),\n",
    "            nn.MaxPool2d(2),  # 48x48\n",
    "            nn.Conv2d(8, 16, 7),  # 42x42\n",
    "            nn.ReLU(True),\n",
    "            nn.MaxPool2d(3),  # 14x14\n",
    "            nn.Conv2d(16, 16, 5),  # 10x10\n",
    "        )\n",
    "        self.conv = nn.Sequential(nn.Conv2d(in_channels=self.hidden_dim + self.input_dim,\n",
    "                              out_channels=36,\n",
    "                              kernel_size=self.kernel_size,\n",
    "                              padding=self.padding,\n",
    "                              bias=self.bias),\n",
    "                                    nn.Conv2d(in_channels=36,\n",
    "                              out_channels=4 * self.hidden_dim,\n",
    "                              kernel_size=self.kernel_size,\n",
    "                              padding=self.padding,\n",
    "                              bias=self.bias))\n",
    "\n",
    "    def forward(self, input_tensor, cur_state):\n",
    "        \n",
    "        h_cur, c_cur = cur_state\n",
    "        combined = torch.cat([self.features(input_tensor), h_cur], dim=1)  # concatenate along channel axis\n",
    "        \n",
    "        combined_conv = self.conv(combined)\n",
    "        cc_i, cc_f, cc_o, cc_g = torch.split(combined_conv, self.hidden_dim, dim=1) \n",
    "        i = torch.sigmoid(cc_i)\n",
    "        f = torch.sigmoid(cc_f)\n",
    "        o = torch.sigmoid(cc_o)\n",
    "        g = torch.tanh(cc_g)\n",
    "\n",
    "        c_next = f * c_cur + i * g\n",
    "        h_next = o * torch.tanh(c_next)\n",
    "        \n",
    "        return h_next, c_next\n",
    "\n",
    "    def init_hidden(self, batch_size):\n",
    "        \n",
    "#         return (Variable(torch.zeros(batch_size, self.hidden_dim, self.height, self.width)).cuda(),\n",
    "#                 Variable(torch.zeros(batch_size, self.hidden_dim, self.height, self.width)).cuda())\n",
    "        temp = (tensor(Variable(torch.zeros(batch_size, self.hidden_dim, self.height, self.width))),\n",
    "                tensor(Variable(torch.zeros(batch_size, self.hidden_dim, self.height, self.width))))\n",
    "        return temp\n",
    "\n",
    "class ConvLSTM(nn.Module):\n",
    "\n",
    "    def __init__(self, input_size, input_dim, hidden_dim, kernel_size, num_layers,\n",
    "                 batch_first=False, bias=True, return_all_layers=False):\n",
    "        super(ConvLSTM, self).__init__()\n",
    "\n",
    "        self._check_kernel_size_consistency(kernel_size)\n",
    "\n",
    "        # Make sure that both `kernel_size` and `hidden_dim` are lists having len == num_layers\n",
    "        kernel_size = self._extend_for_multilayer(kernel_size, num_layers)\n",
    "        hidden_dim  = self._extend_for_multilayer(hidden_dim, num_layers)\n",
    "        if not len(kernel_size) == len(hidden_dim) == num_layers:\n",
    "            raise ValueError('Inconsistent list length.')\n",
    "\n",
    "        self.height, self.width = input_size\n",
    "        device = \"cuda:1\"\n",
    "        self.input_dim  = input_dim\n",
    "        self.hidden_dim = hidden_dim\n",
    "        self.kernel_size = kernel_size\n",
    "        self.num_layers = num_layers\n",
    "        self.batch_first = batch_first\n",
    "        self.bias = bias\n",
    "        self.return_all_layers = return_all_layers\n",
    "\n",
    "        cell_list = []\n",
    "        for i in range(0, self.num_layers):\n",
    "            cur_input_dim = self.input_dim if i == 0 else self.hidden_dim[i-1]\n",
    "\n",
    "            cell_list.append(ConvLSTMCell(input_size=(self.height, self.width),\n",
    "                                          input_dim=cur_input_dim,\n",
    "                                          hidden_dim=self.hidden_dim[i],\n",
    "                                          kernel_size=self.kernel_size[i],\n",
    "                                          bias=self.bias).to(device))\n",
    "\n",
    "        self.cell_list = nn.ModuleList(cell_list)\n",
    "\n",
    "    def forward(self, input_tensor, hidden_state=None):\n",
    "        \"\"\"\n",
    "        \n",
    "        Parameters\n",
    "        ----------\n",
    "        input_tensor: todo \n",
    "            5-D Tensor either of shape (t, b, c, h, w) or (b, t, c, h, w)\n",
    "        hidden_state: todo\n",
    "            None. todo implement stateful\n",
    "            \n",
    "        Returns\n",
    "        -------\n",
    "        last_state_list, layer_output\n",
    "        \"\"\"\n",
    "        if not self.batch_first:\n",
    "            # (t, b, c, h, w) -> (b, t, c, h, w)\n",
    "            input_tensor = input_tensor.permute(1, 0, 2, 3, 4)\n",
    "\n",
    "        # Implement stateful ConvLSTM\n",
    "        if hidden_state is not None:\n",
    "            raise NotImplementedError()\n",
    "        else:\n",
    "            hidden_state = self._init_hidden(batch_size=input_tensor.size(0))\n",
    "        layer_output_list = []\n",
    "        layer_output_list = []\n",
    "        last_state_list   = []\n",
    "        layer_output_inner_list = []\n",
    "        layer_output_outer_list = []\n",
    "        seq_len = input_tensor.size(1)\n",
    "        cur_layer_input = input_tensor\n",
    "\n",
    "        for layer_idx in range(self.num_layers):\n",
    "\n",
    "            h, c = hidden_state[layer_idx]\n",
    "            output_inner = []\n",
    "            output_outer = []\n",
    "            for t in range(seq_len):\n",
    "\n",
    "                h, c = self.cell_list[layer_idx](input_tensor=cur_layer_input[:, t, :, :, :],\n",
    "                                                 cur_state=[h, c])\n",
    "                output_inner.append(h)\n",
    "                output_outer.append(c)\n",
    "            cur_layer_input = torch.stack(output_inner, dim=1)\n",
    "            \n",
    "            layer_outer = torch.stack(output_outer, dim=1)\n",
    "            layer_output_inner = torch.stack(output_inner, dim=1)\n",
    "            layer_output_inner_list.append(cur_layer_input)\n",
    "            layer_output_outer_list.append(layer_outer)\n",
    "            last_state_list.append([h, c])\n",
    "\n",
    "        if not self.return_all_layers:\n",
    "            layer_output_list = layer_output_list[-1:]\n",
    "            last_state_list   = last_state_list[-1:]\n",
    "\n",
    "        return layer_output_inner_list,layer_output_outer_list, last_state_list\n",
    "\n",
    "    def _init_hidden(self, batch_size):\n",
    "        init_states = []\n",
    "        for i in range(self.num_layers):\n",
    "            init_states.append(self.cell_list[i].init_hidden(batch_size))\n",
    "        return init_states\n",
    "\n",
    "    @staticmethod\n",
    "    def _check_kernel_size_consistency(kernel_size):\n",
    "        if not (isinstance(kernel_size, tuple) or\n",
    "                    (isinstance(kernel_size, list) and all([isinstance(elem, tuple) for elem in kernel_size]))):\n",
    "            raise ValueError('`kernel_size` must be tuple or list of tuples')\n",
    "\n",
    "    @staticmethod\n",
    "    def _extend_for_multilayer(param, num_layers):\n",
    "        if not isinstance(param, list):\n",
    "            param = [param] * num_layers\n",
    "        return param"
   ]
  },
  {
   "cell_type": "code",
   "execution_count": null,
   "metadata": {
    "scrolled": true
   },
   "outputs": [
    {
     "data": {
      "text/plain": [
       "ConvLSTM(\n",
       "  (cell_list): ModuleList(\n",
       "    (0): ConvLSTMCell(\n",
       "      (features): Sequential(\n",
       "        (0): Conv2d(2, 8, kernel_size=(5, 5), stride=(1, 1))\n",
       "        (1): ReLU(inplace=True)\n",
       "        (2): MaxPool2d(kernel_size=2, stride=2, padding=0, dilation=1, ceil_mode=False)\n",
       "        (3): Conv2d(8, 16, kernel_size=(7, 7), stride=(1, 1))\n",
       "        (4): ReLU(inplace=True)\n",
       "        (5): MaxPool2d(kernel_size=3, stride=3, padding=0, dilation=1, ceil_mode=False)\n",
       "        (6): Conv2d(16, 16, kernel_size=(5, 5), stride=(1, 1))\n",
       "      )\n",
       "      (conv): Sequential(\n",
       "        (0): Conv2d(26, 36, kernel_size=(3, 3), stride=(1, 1), padding=(1, 1))\n",
       "        (1): Conv2d(36, 40, kernel_size=(3, 3), stride=(1, 1), padding=(1, 1))\n",
       "      )\n",
       "    )\n",
       "  )\n",
       ")"
      ]
     },
     "execution_count": 21,
     "metadata": {},
     "output_type": "execute_result"
    }
   ],
   "source": [
    "height = 10\n",
    "width = 10\n",
    "channels = 16\n",
    "\n",
    "model = ConvLSTM(input_size=(height, width),\n",
    "                 input_dim=channels,\n",
    "                 hidden_dim=[10],\n",
    "                 kernel_size=(3, 3),\n",
    "                 num_layers=1,\n",
    "                 batch_first=True,\n",
    "                 bias=True,\n",
    "                 return_all_layers=False)\n",
    "model.to(device)"
   ]
  },
  {
   "cell_type": "code",
   "execution_count": null,
   "metadata": {
    "scrolled": true
   },
   "outputs": [
    {
     "data": {
      "text/plain": [
       "torch.Size([200, 30, 2, 100, 100])"
      ]
     },
     "execution_count": 22,
     "metadata": {},
     "output_type": "execute_result"
    }
   ],
   "source": [
    "tensor(np.stack(imgs_in_2)).shape"
   ]
  },
  {
   "cell_type": "code",
   "execution_count": null,
   "metadata": {
    "scrolled": true
   },
   "outputs": [
    {
     "data": {
      "text/plain": [
       "ConvLSTM(\n",
       "  (cell_list): ModuleList(\n",
       "    (0): ConvLSTMCell(\n",
       "      (features): Sequential(\n",
       "        (0): Conv2d(2, 8, kernel_size=(5, 5), stride=(1, 1))\n",
       "        (1): ReLU(inplace=True)\n",
       "        (2): MaxPool2d(kernel_size=2, stride=2, padding=0, dilation=1, ceil_mode=False)\n",
       "        (3): Conv2d(8, 16, kernel_size=(7, 7), stride=(1, 1))\n",
       "        (4): ReLU(inplace=True)\n",
       "        (5): MaxPool2d(kernel_size=3, stride=3, padding=0, dilation=1, ceil_mode=False)\n",
       "        (6): Conv2d(16, 16, kernel_size=(5, 5), stride=(1, 1))\n",
       "      )\n",
       "      (conv): Sequential(\n",
       "        (0): Conv2d(26, 36, kernel_size=(3, 3), stride=(1, 1), padding=(1, 1))\n",
       "        (1): Conv2d(36, 40, kernel_size=(3, 3), stride=(1, 1), padding=(1, 1))\n",
       "      )\n",
       "    )\n",
       "  )\n",
       ")"
      ]
     },
     "execution_count": 23,
     "metadata": {},
     "output_type": "execute_result"
    }
   ],
   "source": [
    "model.to(device)"
   ]
  },
  {
   "cell_type": "code",
   "execution_count": null,
   "metadata": {
    "scrolled": false
   },
   "outputs": [
    {
     "name": "stderr",
     "output_type": "stream",
     "text": [
      "/usr/local/lib/python3.6/dist-packages/ipykernel_launcher.py:2: UserWarning: To copy construct from a tensor, it is recommended to use sourceTensor.clone().detach() or sourceTensor.clone().detach().requires_grad_(True), rather than torch.tensor(sourceTensor).\n",
      "  \n"
     ]
    },
    {
     "data": {
      "text/plain": [
       "torch.Size([1, 30, 10, 10, 10])"
      ]
     },
     "execution_count": 24,
     "metadata": {},
     "output_type": "execute_result"
    }
   ],
   "source": [
    "(model(tensor(np.stack(imgs_in_2))[0].unsqueeze(0))[0][0]).shape"
   ]
  },
  {
   "cell_type": "code",
   "execution_count": null,
   "metadata": {},
   "outputs": [],
   "source": [
    "class LSTM_Decoder(nn.Module):\n",
    "    def __init__(self):\n",
    "        super(LSTM_Decoder, self).__init__()\n",
    "        self.map_decoder = nn.Sequential(\n",
    "            nn.ConvTranspose2d(20, 16, 5, stride=3, padding=2),  # b, 16, 28, 28\n",
    "            nn.ReLU(True),\n",
    "            nn.Dropout(0.1),\n",
    "            nn.ConvTranspose2d(16, 8, 3, stride=2, padding=2),  # b, 8, 53, 53\n",
    "            nn.ReLU(True),\n",
    "            nn.ConvTranspose2d(8, 1, 2, stride=2, padding=3)  # b, 1, 100, 100\n",
    "        ) \n",
    "        self.optimizer = torch.optim.Adam(self.parameters(),weight_decay = 0.0001,  lr=0.001)\n",
    "        self.sm = nn.Softmax(dim=1)\n",
    "    def forward_map_decode(self, grid_mem):\n",
    "        scores = self.map_decoder(grid_mem)\n",
    "        return torch.cat((scores, -scores), 1)\n",
    "            \n",
    "    \n",
    "    def train_K_decoder(self,model, imgs_in, xy_in, label_maps, K=150, min_seq_len=1, max_seq_len=10, \n",
    "                         max_epochs=200, holdout=0, outfile=None):\n",
    "        print(\"starting training on prev\")\n",
    "        start = time.time()\n",
    "        rooms = range(K)\n",
    "        bs = 128\n",
    "        curr_hist = []\n",
    "        acc_hist = []\n",
    "\n",
    "        room_data = []\n",
    "        for r in rooms:\n",
    "            for seq_len in range(10,11):# range(min_seq_len, min(max_seq_len + 1, imgs_in[r].shape[0])):\n",
    "                room_data.append([r, seq_len])\n",
    "        room_data = np.array(room_data, dtype=int)\n",
    "        np.random.shuffle(room_data)\n",
    "        room_data = room_data[:int(len(room_data) * (1 - holdout))]\n",
    "\n",
    "        print('total training data points: ', len(room_data))\n",
    "        for epoch in range(max_epochs):\n",
    "            if epoch % 100 == 99 and outfile:\n",
    "                torch.save(self.state_dict(), outfile + str(epoch+1) + 'ep.pth')\n",
    "            self.train()           \n",
    "            np.random.shuffle(room_data)\n",
    "\n",
    "            seq_images = []\n",
    "            j = 0\n",
    "            for r, seq_len in room_data:\n",
    "                #if j==0: print(r, seq_len, pred_idx)\n",
    "                element_idxs = np.random.choice(30, \n",
    "                                                seq_len, replace=False)\n",
    "                seq_images = imgs_in[r][element_idxs]\n",
    "\n",
    "                seq_xy = xy_in[r][element_idxs]\n",
    "\n",
    "    #unsqueezes state,forward expects map,grid_mem initialized without batch axis    \n",
    "                h,c,_ = model(seq_images.unsqueeze(0))\n",
    "    #                 print(temp.shape)\n",
    "                pred = self.forward_map_decode(torch.cat((h[0],c[0]),2).squeeze(0))\n",
    "                loss_function = nn.CrossEntropyLoss()#weight=tensor([.25, 1.5]))\n",
    "                \n",
    "                self.optimizer.zero_grad()\n",
    "\n",
    "#                 pred = self.forward_2_batch(self.embedding, xy_list)\n",
    "                temp = self.sm(pred)[:,1]>0.5 #1x108x108\n",
    "\n",
    "                correct = (temp[:][0].long() == torch.stack([label_maps[r]]*seq_len)) \n",
    "                acc = (float(torch.sum(correct))/(correct.shape[0] * correct.shape[1]))\n",
    "#                 loss = loss_function(pred, label_maps[r].unsqueeze(0))  # torch.tensor(1,dtype = torch.long))\n",
    "\n",
    "#                 loss.backward(retain_graph=True)\n",
    "                loss = loss_function(pred,torch.stack([label_maps[r]]*seq_len))\n",
    "                loss.backward(retain_graph=True)\n",
    "                self.optimizer.step()\n",
    "                curr_hist.append(float(loss.data))\n",
    "                acc_hist.append(acc)\n",
    "                j += 1\n",
    "                if j % 1000 == 0:\n",
    "                     print(curr_hist[-1], acc)\n",
    "            \n",
    "            if epoch % 1 == 0:\n",
    "                vl, va = validate(self,model, range(10, 10+1))\n",
    "                print('\\r epoch %d : trainloss %.4f  trainacc %.4f  valloss %.4f  valacc %.4f  time %.2f' % (epoch + 1, np.mean(curr_hist), np.mean(acc_hist), vl, va, time.time() - start))\n",
    "            \n",
    "            #print(np.mean(curr_hist))\n",
    "                hist.append(np.mean(curr_hist))\n",
    "                val_hist.append(vl)\n",
    "                curr_hist = []\n",
    "                acc_hist = []\n",
    "                "
   ]
  },
  {
   "cell_type": "markdown",
   "metadata": {},
   "source": [
    "# Test"
   ]
  },
  {
   "cell_type": "code",
   "execution_count": null,
   "metadata": {},
   "outputs": [],
   "source": [
    "def validate(decoder,model, seq_range, reps=5):\n",
    "        room_data = []\n",
    "        rooms = range(150, 200)\n",
    "        for r in rooms:\n",
    "            for seq_len in seq_range:\n",
    "                room_data.append([r, seq_len])\n",
    "        losses = []\n",
    "        accs = []  \n",
    "        for _ in range(reps):\n",
    "            #print(_)\n",
    "            model.eval()\n",
    "            np.random.shuffle(room_data)\n",
    "\n",
    "            for r, seq_len in room_data:\n",
    "                #if j==0: print(r, seq_len, pred_idx)\n",
    "                element_idxs = np.random.choice(range(30), \n",
    "                                                seq_len, replace=False)\n",
    "                seq_images = tensor(np.stack(imgs_in_2)[r][element_idxs])\n",
    "                aug_xy = np.array(xc)/100\n",
    "                seq_xy = aug_xy[r][element_idxs]\n",
    "                \n",
    "                h,c,_ = model(seq_images.unsqueeze(0))\n",
    "                pred = decoder.forward_map_decode(torch.cat((h[0],c[0]),2).squeeze(0))\n",
    "                loss_function = nn.CrossEntropyLoss()\n",
    "                \n",
    "                pred_class = decoder.sm(pred)[:,1]>0.5\n",
    "                #print(pred_class.shape)\n",
    "                coarse_maps = torch.tensor(true_maps,dtype = torch.long,device = device)\n",
    "                correct = (pred_class[:][0].long() == torch.stack([coarse_maps[r]]*seq_len)) \n",
    "                acc = (float(torch.sum(correct))/(correct.shape[0] * correct.shape[1]))\n",
    "\n",
    "                loss = loss_function(pred, torch.stack([coarse_maps[r]]*seq_len))  # torch.tensor(1,dtype = torch.long))\n",
    "                accs.append(acc)\n",
    "                losses.append(float(loss.data))\n",
    "        return np.mean(losses), np.mean(accs)"
   ]
  },
  {
   "cell_type": "code",
   "execution_count": null,
   "metadata": {},
   "outputs": [],
   "source": [
    "hist = []\n",
    "val_hist = []"
   ]
  },
  {
   "cell_type": "code",
   "execution_count": null,
   "metadata": {
    "scrolled": false
   },
   "outputs": [
    {
     "data": {
      "text/plain": [
       "LSTM_Decoder(\n",
       "  (map_decoder): Sequential(\n",
       "    (0): ConvTranspose2d(20, 16, kernel_size=(5, 5), stride=(3, 3), padding=(2, 2))\n",
       "    (1): ReLU(inplace=True)\n",
       "    (2): Dropout(p=0.1, inplace=False)\n",
       "    (3): ConvTranspose2d(16, 8, kernel_size=(3, 3), stride=(2, 2), padding=(2, 2))\n",
       "    (4): ReLU(inplace=True)\n",
       "    (5): ConvTranspose2d(8, 1, kernel_size=(2, 2), stride=(2, 2), padding=(3, 3))\n",
       "  )\n",
       "  (sm): Softmax(dim=1)\n",
       ")"
      ]
     },
     "execution_count": 28,
     "metadata": {},
     "output_type": "execute_result"
    }
   ],
   "source": [
    "A=LSTM_Decoder()\n",
    "A.to(device)"
   ]
  },
  {
   "cell_type": "code",
   "execution_count": null,
   "metadata": {
    "scrolled": false
   },
   "outputs": [
    {
     "name": "stdout",
     "output_type": "stream",
     "text": [
      "starting training on prev\n",
      "total training data points:  150\n"
     ]
    },
    {
     "name": "stderr",
     "output_type": "stream",
     "text": [
      "/usr/local/lib/python3.6/dist-packages/ipykernel_launcher.py:2: UserWarning: To copy construct from a tensor, it is recommended to use sourceTensor.clone().detach() or sourceTensor.clone().detach().requires_grad_(True), rather than torch.tensor(sourceTensor).\n",
      "  \n"
     ]
    }
   ],
   "source": [
    "A.train_K_decoder(model,tensor(np.stack(imgs_in_2)),xc/100,torch.tensor(np.stack(true_maps),dtype = torch.long,device=device))\n",
    "torch.save(A.state_dict(), '/home/azav/cn_lstm')"
   ]
  },
  {
   "cell_type": "code",
   "execution_count": null,
   "metadata": {},
   "outputs": [],
   "source": [
    "seq_images=tensor(np.stack(imgs_in_2[15][0:10]))"
   ]
  },
  {
   "cell_type": "code",
   "execution_count": null,
   "metadata": {},
   "outputs": [],
   "source": [
    "h,c,_ = model(seq_images.unsqueeze(0))\n",
    "pred = A.forward_map_decode(torch.cat((h[0],c[0]),2).squeeze(0))"
   ]
  },
  {
   "cell_type": "code",
   "execution_count": null,
   "metadata": {},
   "outputs": [],
   "source": [
    "torch.save(model.state_dict(), '/home/azav/cn_lstm_100b')"
   ]
  },
  {
   "cell_type": "code",
   "execution_count": null,
   "metadata": {},
   "outputs": [],
   "source": [
    "prediction=(A.sm(pred)[:,1]>0.5).detach().cpu().numpy()"
   ]
  },
  {
   "cell_type": "code",
   "execution_count": null,
   "metadata": {},
   "outputs": [],
   "source": [
    "prediction.shape"
   ]
  },
  {
   "cell_type": "code",
   "execution_count": null,
   "metadata": {},
   "outputs": [],
   "source": [
    "plt.imshow(prediction[9]*1)"
   ]
  }
 ],
 "metadata": {
  "kernelspec": {
   "display_name": "Python 3",
   "language": "python",
   "name": "python3"
  },
  "language_info": {
   "codemirror_mode": {
    "name": "ipython",
    "version": 3
   },
   "file_extension": ".py",
   "mimetype": "text/x-python",
   "name": "python",
   "nbconvert_exporter": "python",
   "pygments_lexer": "ipython3",
   "version": "3.6.8"
  }
 },
 "nbformat": 4,
 "nbformat_minor": 2
}
