{
 "cells": [
  {
   "cell_type": "markdown",
   "metadata": {},
   "source": [
    "# Active-Reinforcement Learning"
   ]
  },
  {
   "cell_type": "code",
   "execution_count": 1,
   "metadata": {},
   "outputs": [],
   "source": [
    "import torch\n",
    "import numpy as np\n",
    "import torchvision\n",
    "from matplotlib import pyplot as plt\n",
    "import torch.nn as nn\n",
    "from copy import deepcopy\n",
    "import time\n",
    "import torch.nn.functional as F\n",
    "import sys\n",
    "\n",
    "device = \"cuda:1\"\n",
    "# c = np.random.randn(3,2)\n",
    "# c=np.clip(a_min=-2.0,a_max=2.0,a=c)\n",
    "def labels(x,c):\n",
    "    \n",
    "    d=c-x\n",
    "    d=np.clip(a_min=-0.5,a_max=0.5,a=d)-d\n",
    "    \n",
    "    for i in d:\n",
    "        if i[0]==0 and i[1]==0:\n",
    "             return(1)\n",
    "    else: return(0.2)\n",
    "    \n",
    "def labels_diff_shape(x,c):\n",
    "    \n",
    "    d=c-x\n",
    "    d1=np.clip(a_min=-0.5,a_max=0.5,a=d)-d\n",
    "    d1_prox = []\n",
    "    d2=np.clip(a_min=-0.5,a_max=0.9,a=d)-d\n",
    "    d2_prox = []\n",
    "\n",
    "    for i in d1:\n",
    "        if i[0]==0 and i[1]==0:\n",
    "             d1_prox.append(1)\n",
    "        else: d1_prox.append(0)\n",
    "    for i in d2:\n",
    "        if i[0]==0 and i[1]==0:\n",
    "             d2_prox.append(1)\n",
    "        else: d2_prox.append(0)\n",
    "\n",
    "    if (d1_prox[0]==1 and d2_prox[0]==1) or (d1_prox[1]==1) or (d2_prox[0]==1):\n",
    "        return(1)\n",
    "    else: return(0.2)  \n",
    "    "
   ]
  },
  {
   "cell_type": "markdown",
   "metadata": {},
   "source": [
    "## Create True Maps"
   ]
  },
  {
   "cell_type": "code",
   "execution_count": 2,
   "metadata": {},
   "outputs": [],
   "source": [
    "import numpy as np\n",
    "\n",
    "X_MIN, X_MAX, Y_MIN, Y_MAX = -2.5, 2.5, -2.5, 2.5\n",
    "TABLE_X_LENGTH, TABLE_Y_LENGTH = 1, 1\n",
    "SOFA_X_LENGTH, SOFA_Y_LENGTH = 1, 1\n",
    "map_scale = 32\n",
    "\n",
    "def random_table_sofa_centers(n_tables, n_sofas):\n",
    "    \"\"\"\n",
    "    Generate random table center locations within the bounds of the room and not\n",
    "    overlapping with each other.\n",
    "\n",
    "    :param n_tables: The number of table centers to generate\n",
    "    :return: The table centers in a list of [x, y] pairs\n",
    "    \"\"\"\n",
    "    def is_overlap(table_centers, sofa_centers, new_x, new_y, new_x_len, new_y_len):\n",
    "        overlap = False\n",
    "        for x, y in table_centers:\n",
    "            if (abs(x - new_x) < (TABLE_X_LENGTH + new_x_len) / 2 and \n",
    "                abs(y - new_y) < (TABLE_Y_LENGTH + new_y_len) / 2):\n",
    "                overlap = True\n",
    "        for x, y in sofa_centers:\n",
    "            if (abs(x - new_x) < (SOFA_X_LENGTH + new_x_len) / 2 and \n",
    "                abs(y - new_y) < (SOFA_Y_LENGTH + new_y_len) / 2):\n",
    "                overlap = True\n",
    "        return overlap\n",
    "\n",
    "    table_centers, sofa_centers = [], []\n",
    "    for _ in range(n_tables):\n",
    "        new_x = X_MIN + TABLE_X_LENGTH / 2 + np.random.rand() * (X_MAX - X_MIN - TABLE_X_LENGTH)\n",
    "        new_y = Y_MIN + TABLE_Y_LENGTH / 2 + np.random.rand() * (Y_MAX - Y_MIN - TABLE_Y_LENGTH)\n",
    "        while is_overlap(table_centers, sofa_centers, new_x, new_y, TABLE_X_LENGTH, TABLE_Y_LENGTH):\n",
    "            new_x = X_MIN + TABLE_X_LENGTH / 2 + np.random.rand() * (X_MAX - X_MIN - TABLE_X_LENGTH)\n",
    "            new_y = Y_MIN + TABLE_Y_LENGTH / 2 + np.random.rand() * (Y_MAX - Y_MIN - TABLE_Y_LENGTH)\n",
    "        table_centers.append([new_x, new_y])\n",
    "    for _ in range(n_sofas):\n",
    "        new_x = X_MIN + SOFA_X_LENGTH / 2 + np.random.rand() * (X_MAX - X_MIN - SOFA_X_LENGTH)\n",
    "        new_y = Y_MIN + SOFA_Y_LENGTH / 2 + np.random.rand() * (Y_MAX - Y_MIN - SOFA_Y_LENGTH)\n",
    "        while is_overlap(table_centers, sofa_centers, new_x, new_y, SOFA_X_LENGTH, SOFA_Y_LENGTH):\n",
    "            new_x = X_MIN + SOFA_X_LENGTH / 2 + np.random.rand() * (X_MAX - X_MIN - SOFA_X_LENGTH)\n",
    "            new_y = Y_MIN + SOFA_Y_LENGTH / 2 + np.random.rand() * (Y_MAX - Y_MIN - SOFA_Y_LENGTH)\n",
    "        sofa_centers.append([new_x, new_y])\n",
    "    return table_centers, sofa_centers\n",
    "room_center=[]\n",
    "for i in range(400):\n",
    "    temp = random_table_sofa_centers(5,0)\n",
    "    room_center.append(temp[0])\n",
    "c_rooms = np.stack(room_center)"
   ]
  },
  {
   "cell_type": "markdown",
   "metadata": {},
   "source": [
    "## Create Images for input\n",
    "### Using ground truth"
   ]
  },
  {
   "cell_type": "markdown",
   "metadata": {},
   "source": [
    "# Centers"
   ]
  },
  {
   "cell_type": "code",
   "execution_count": 3,
   "metadata": {},
   "outputs": [],
   "source": [
    "xc=np.random.randint(low=-150,high=150,size=(400,30,2))"
   ]
  },
  {
   "cell_type": "code",
   "execution_count": 4,
   "metadata": {
    "scrolled": true
   },
   "outputs": [],
   "source": [
    "# #input images from labeller\n",
    "# imgs_in=[]\n",
    "# for i,room in enumerate(xc):\n",
    "#     temp = []\n",
    "#     for j in room:\n",
    "#         temp_img=[]\n",
    "#         temp_x = np.arange(j[0]-100,j[0]+100,5)\n",
    "#         temp_y = np.arange(j[1]-100,j[1]+100,5)\n",
    "#         x,y=np.meshgrid(temp_x,temp_y)\n",
    "#         for k in np.append(x.reshape(1,1600).T,y.reshape(1,1600).T,1):\n",
    "#             temp_img.append(labels(k/100,c_rooms[i]))\n",
    "#         temp_img=np.array(temp_img)\n",
    "#         temp.append(temp_img.reshape(40,40))\n",
    "#     imgs_in.append(temp)\n",
    "    \n",
    "        "
   ]
  },
  {
   "cell_type": "code",
   "execution_count": 5,
   "metadata": {},
   "outputs": [],
   "source": [
    "def inp_image_from_truth(true_map,xy):\n",
    "    xy[0]+=2.5\n",
    "    xy[1]+=2.5\n",
    "    xy[0]/=0.05\n",
    "    xy[1]/=0.05  \n",
    "    a = np.int(np.floor(xy[0]))\n",
    "    b = np.int(np.floor(xy[1]))\n",
    "    return(true_map[a-20:a+20,b-20:b+20])"
   ]
  },
  {
   "cell_type": "markdown",
   "metadata": {},
   "source": [
    "### Create Padded input images"
   ]
  },
  {
   "cell_type": "markdown",
   "metadata": {},
   "source": [
    "#### For GVM"
   ]
  },
  {
   "cell_type": "code",
   "execution_count": 6,
   "metadata": {},
   "outputs": [],
   "source": [
    "def pad_images(image,xy):\n",
    "    c_x = xy[1]/0.05+50\n",
    "    c_y = xy[0]/0.05+50\n",
    "    x_0 =int(c_x%10)\n",
    "    y_0 = int(c_y%10)\n",
    "    image_new = np.zeros((2,50,50))\n",
    "    image_new[0,x_0:x_0+40,y_0:y_0+40] = 1\n",
    "    image_new[1,x_0:x_0+40,y_0:y_0+40] = image\n",
    "    return(image_new)\n",
    "    "
   ]
  },
  {
   "cell_type": "markdown",
   "metadata": {},
   "source": [
    "## Create True Map"
   ]
  },
  {
   "cell_type": "code",
   "execution_count": 7,
   "metadata": {},
   "outputs": [],
   "source": [
    "def create_true_map(centres):\n",
    "    #select uniformly\n",
    "    xm=np.arange(-2.5,2.5,0.05)\n",
    "    ym=np.arange(-2.5,2.5,0.05)\n",
    "    xm,ym = np.meshgrid(xm,ym)\n",
    "    map_samp = np.append(xm.reshape(1,10000).T,ym.reshape(1,10000).T,1)\n",
    "    #label Uniform Points\n",
    "    true_map = []\n",
    "    for j in range(10000):\n",
    "        true_map.append(labels(map_samp[j],centres))\n",
    "    return(np.array(true_map).reshape(100,100))"
   ]
  },
  {
   "cell_type": "code",
   "execution_count": 8,
   "metadata": {
    "scrolled": true
   },
   "outputs": [],
   "source": [
    "true_maps = []\n",
    "for i in c_rooms:\n",
    "    true_maps.append(create_true_map(i))"
   ]
  },
  {
   "cell_type": "code",
   "execution_count": 9,
   "metadata": {},
   "outputs": [],
   "source": [
    "imgs_in=[]\n",
    "for i,room in enumerate(xc):\n",
    "    temp = []\n",
    "    for j in room:\n",
    "        temp_img=inp_image_from_truth(true_maps[i],j/100)\n",
    "        temp.append(temp_img)\n",
    "    imgs_in.append(temp)"
   ]
  },
  {
   "cell_type": "markdown",
   "metadata": {},
   "source": [
    "## Plot True Maps"
   ]
  },
  {
   "cell_type": "code",
   "execution_count": 10,
   "metadata": {},
   "outputs": [
    {
     "data": {
      "text/plain": [
       "<matplotlib.image.AxesImage at 0x7f61c8c65a58>"
      ]
     },
     "execution_count": 10,
     "metadata": {},
     "output_type": "execute_result"
    },
    {
     "data": {
      "image/png": "[encoded data removed]",
      "text/plain": [
       "<matplotlib.figure.Figure at 0x7f61cb073898>"
      ]
     },
     "metadata": {
      "needs_background": "light"
     },
     "output_type": "display_data"
    }
   ],
   "source": [
    "plt.imshow(true_maps[0])"
   ]
  },
  {
   "cell_type": "markdown",
   "metadata": {},
   "source": [
    "# pad input data"
   ]
  },
  {
   "cell_type": "code",
   "execution_count": 11,
   "metadata": {},
   "outputs": [],
   "source": [
    "imgs_in_1 = deepcopy(imgs_in)\n",
    "for rooms in range(400):\n",
    "    for j,image in enumerate(imgs_in[rooms]):\n",
    "        imgs_in_1[rooms][j] = pad_images(image,xc[rooms][j]/100)\n"
   ]
  },
  {
   "cell_type": "code",
   "execution_count": 12,
   "metadata": {},
   "outputs": [
    {
     "data": {
      "text/plain": [
       "(20.8, 57.6)"
      ]
     },
     "execution_count": 12,
     "metadata": {},
     "output_type": "execute_result"
    }
   ],
   "source": [
    "xc[0][10][0]/5+50,xc[0][10][1]/5+50"
   ]
  },
  {
   "cell_type": "code",
   "execution_count": 13,
   "metadata": {
    "scrolled": true
   },
   "outputs": [
    {
     "data": {
      "text/plain": [
       "<matplotlib.image.AxesImage at 0x7f61c8aee860>"
      ]
     },
     "execution_count": 13,
     "metadata": {},
     "output_type": "execute_result"
    },
    {
     "data": {
      "image/png": "[encoded data removed]",
      "text/plain": [
       "<matplotlib.figure.Figure at 0x7f61cb073cf8>"
      ]
     },
     "metadata": {
      "needs_background": "light"
     },
     "output_type": "display_data"
    }
   ],
   "source": [
    "plt.imshow(imgs_in[0][10])"
   ]
  },
  {
   "cell_type": "code",
   "execution_count": 14,
   "metadata": {},
   "outputs": [
    {
     "data": {
      "text/plain": [
       "<matplotlib.image.AxesImage at 0x7f61c89f6c18>"
      ]
     },
     "execution_count": 14,
     "metadata": {},
     "output_type": "execute_result"
    },
    {
     "data": {
      "image/png": "[encoded data removed]",
      "text/plain": [
       "<matplotlib.figure.Figure at 0x7f61c8ad0390>"
      ]
     },
     "metadata": {
      "needs_background": "light"
     },
     "output_type": "display_data"
    }
   ],
   "source": [
    "plt.imshow(imgs_in[0][4])"
   ]
  },
  {
   "cell_type": "code",
   "execution_count": 15,
   "metadata": {
    "scrolled": false
   },
   "outputs": [
    {
     "data": {
      "text/plain": [
       "<matplotlib.image.AxesImage at 0x7f61c89d9cc0>"
      ]
     },
     "execution_count": 15,
     "metadata": {},
     "output_type": "execute_result"
    },
    {
     "data": {
      "image/png": "[encoded data removed]",
      "text/plain": [
       "<matplotlib.figure.Figure at 0x7f61c8a942e8>"
      ]
     },
     "metadata": {
      "needs_background": "light"
     },
     "output_type": "display_data"
    }
   ],
   "source": [
    "plt.imshow(imgs_in_1[0][4][1])"
   ]
  },
  {
   "cell_type": "code",
   "execution_count": 16,
   "metadata": {},
   "outputs": [],
   "source": [
    "def tensor(obj):\n",
    "    return torch.tensor(obj, device=device,dtype = torch.float)"
   ]
  },
  {
   "cell_type": "markdown",
   "metadata": {},
   "source": [
    "# GVM"
   ]
  },
  {
   "cell_type": "code",
   "execution_count": 55,
   "metadata": {
    "scrolled": true
   },
   "outputs": [],
   "source": [
    "class GVM(nn.Module):\n",
    "\n",
    "    def __init__(self, D=20, grid=(10, 10), write_size=(5,5), grid_scale=2, \n",
    "                 mins=(-2.5, -2.5), pixel_scale=20):\n",
    "        \n",
    "        super(GVM, self).__init__()\n",
    "        self.D = D\n",
    "        self.grid = grid\n",
    "        self.write_size = write_size\n",
    "        self.write_size_flat = write_size[0] * write_size[1] * D\n",
    "        self.grid_scale = grid_scale  # number of position units per grid cells \n",
    "        self.pixel_scale = pixel_scale  # number of pixels in a position unit\n",
    "        self.mins = mins\n",
    "         \n",
    "        # Downsampler\n",
    "        self.img_write_encode = nn.Sequential(  # 50x50\n",
    "            nn.Conv2d(2, 8, 3),    # 48x48\n",
    "            nn.ReLU(True),\n",
    "            nn.Conv2d(8, 16, 3),   # 46x46\n",
    "            nn.ReLU(True),\n",
    "            nn.MaxPool2d(2),       # 23x23\n",
    "            nn.Conv2d(16, 16, 3),  # 21x21\n",
    "            nn.ReLU(True),\n",
    "            nn.MaxPool2d(3),       # 7x7\n",
    "            nn.Conv2d(16, 16, 3),  # 5x5\n",
    "        )\n",
    "        self.write_combine = nn.Conv2d(D + 1 + 16, D + 16, 3, padding=1)\n",
    "        self.write_final = nn.Conv2d(D + 16, D, 1)\n",
    "        \n",
    "#         self.write1 = nn.Linear(self.write_size_flat + 64, 256)\n",
    "#         self.write2 = nn.Linear(256, 256)\n",
    "#         self.write3 = nn.Linear(256, self.write_size_flat)\n",
    "#         self.init_mem = nn.Parameter(torch.randn(D, grid[0], grid[1]).type(torch.FloatTensor), requires_grad=True)\n",
    "        #learnable initial hidden state\n",
    "        \n",
    "        #latest evolved hidden state\n",
    "        self.embedding = None\n",
    "        \n",
    "        self.images = []\n",
    "        #(x,y) - for all points - to be used as embedding\n",
    "        self.xy_current = []\n",
    "        \n",
    "        #(x,y) - at probe points -to be used as classification \n",
    "        self.dropout = nn.Dropout(0.2) \n",
    "        \n",
    "        self.map_decoder = nn.Sequential(\n",
    "            nn.ConvTranspose2d(D + 1, 16, 5, stride=3, padding=2),  # b, 16, 28, 28\n",
    "            nn.ReLU(True),\n",
    "            nn.Dropout(0.1),\n",
    "            nn.ConvTranspose2d(16, 8, 3, stride=2, padding=2),  # b, 8, 53, 53\n",
    "            nn.ReLU(True),\n",
    "            nn.ConvTranspose2d(8, 1, 2, stride=2, padding=3)  # b, 1, 100, 100\n",
    "        )\n",
    "        \n",
    "        self.sm = nn.Softmax(dim=1)\n",
    "        \n",
    "        self.optimizer = torch.optim.Adam(self.parameters(),weight_decay = 0.0001,  lr=0.001)\n",
    "\n",
    "        self.to(device)\n",
    "        self.prev_room_data = []\n",
    "        self.counter_label_list = []\n",
    "        \n",
    "#     def forward_write(self, grid_mem, xy, img):\n",
    "\n",
    "#         write_center_x = min(self.grid[0] - self.write_size[0] / 2, \n",
    "#                              max(self.write_size[0] / 2, \n",
    "#                                  round((xy[0] - self.mins[0]) / self.scale)))\n",
    "#         write_center_y = min(self.grid[1] - self.write_size[1] / 2, \n",
    "#                              max(self.write_size[1] / 2, \n",
    "#                                  round((xy[0] - self.mins[1]) / self.scale)))\n",
    "        \n",
    "#         xy = tensor([[xy[0] - (write_center_x * self.scale + self.mins[0]), \n",
    "#                       xy[1] - (write_center_y * self.scale + self.mins[1])]])\n",
    "        \n",
    "#         #grid_memory = torch.zeros(self.D, self.grid[0], self.grid[1])\n",
    "#         img = img.unsqueeze(0)\n",
    "#         #input_encode = F.relu(torch.cat((self.xy_write_encode(xy), self.img_write_encode(img)), 1))\n",
    "#         input_encode = F.relu(self.img_write_encode(img))\n",
    "#         start_x = int(write_center_x - self.write_size[0] / 2)\n",
    "#         start_y = int(write_center_y - self.write_size[1] / 2)\n",
    "        \n",
    "#         local_mem = grid_mem[:, start_x:start_x+self.write_size[0], start_y:start_y+self.write_size[0]].unsqueeze(0)\n",
    "\n",
    "    \n",
    "#         full_in = torch.cat((local_mem, input_encode), 1)\n",
    "#         out = F.relu(self.write_combine(full_in))\n",
    "#         out = self.write_final(out)[0]\n",
    "#         grid_mem[:-1, start_x:start_x+self.write_size[0], start_y:start_y+self.write_size[0]] = out\n",
    "#         grid_mem[-1, start_x:start_x+self.write_size[0], start_y:start_y+self.write_size[0]] = 1\n",
    "#         return grid_mem\n",
    "    \n",
    "    def forward_write(self, grid_mem, xy, img):\n",
    "        # Working in pixel space\n",
    "        pixel_x = int((xy[0] - self.mins[0]) * self.pixel_scale)\n",
    "        pixel_y = int((xy[1] - self.mins[1]) * self.pixel_scale)\n",
    "        start_x = min(self.grid[0] - self.write_size[0], \n",
    "                      max(0, \n",
    "                          int((xy[0] - img.shape[-1] / 2. / self.pixel_scale - self.mins[0]) * self.grid_scale)))\n",
    "        start_y = min(self.grid[1] - self.write_size[1], \n",
    "                      max(0, \n",
    "                          int((xy[1] - img.shape[-1] / 2. / self.pixel_scale - self.mins[1]) * self.grid_scale)))\n",
    "        local_start_x = pixel_x - int(start_x * self.pixel_scale / self.grid_scale) - int(img.shape[1] / 2)\n",
    "        local_start_y = pixel_y - int(start_y * self.pixel_scale / self.grid_scale) - int(img.shape[2] / 2)\n",
    "\n",
    "        out = torch.zeros(1, img.shape[0] + 1, int(self.write_size[0] * self.pixel_scale / self.grid_scale), \n",
    "                                int(self.write_size[1] * self.pixel_scale / self.grid_scale)).to(device)\n",
    "        \n",
    "        if local_start_x < 0:\n",
    "            img = img[:, -local_start_x:, :]\n",
    "            local_start_x = 0\n",
    "        if local_start_x+img.shape[1] > out.shape[2]:\n",
    "            over = local_start_x + img.shape[1] - out.shape[2]\n",
    "            img = img[:, :-over]\n",
    "\n",
    "        if local_start_y < 0:\n",
    "            img = img[:, :, -local_start_y:]\n",
    "            local_start_y = 0\n",
    "        if local_start_y+img.shape[2] > out.shape[3]:\n",
    "            over = local_start_y + img.shape[2] - out.shape[3]\n",
    "            img = img[:, :, :-over]\n",
    "        with torch.no_grad():\n",
    "            local_start_x = int(local_start_x)\n",
    "            local_start_y = int(local_start_y)\n",
    "            out[0][:-1, local_start_x:local_start_x+img.shape[1], local_start_y:local_start_y+img.shape[2]] = img\n",
    "            out[0][-1][local_start_x:local_start_x+img.shape[1], local_start_y:local_start_y+img.shape[2]] = 1.    \n",
    "        input_encode = F.relu(self.img_write_encode(out), inplace=True)\n",
    "        local_mem = grid_mem[:, start_x:start_x+self.write_size[0], start_y:start_y+self.write_size[1]].unsqueeze(0)\n",
    "        full_in = torch.cat((local_mem, input_encode), 1)\n",
    "        out = F.relu(self.write_final(F.relu(self.write_combine(full_in), inplace=True)))\n",
    "        #out = F.relu(self.write_final(out)[0], inplace=True)\n",
    "        grid_mem[:-1, start_x:start_x+self.write_size[0], start_y:start_y+self.write_size[1]] = out\n",
    "        grid_mem[-1, start_x:start_x+self.write_size[0], start_y:start_y+self.write_size[1]] = 1\n",
    "        return grid_mem\n",
    "    \n",
    "    \n",
    "    def forward_write_seq(self, xys, imgs):\n",
    "        assert len(xys) == len(imgs)\n",
    "        grid_mem = torch.zeros(self.D + 1, self.grid[0], self.grid[1]).to(device)\n",
    "        for i in range(len(xys)):\n",
    "            grid_mem = self.forward_write(grid_mem, xys[i], imgs[i])\n",
    "        return grid_mem\n",
    "    \n",
    "    def forward_2_batch(self, mem_embed, xys):\n",
    "\n",
    "        x1 = F.relu(self.fc_xy1(xys))\n",
    "        x2 = F.relu(mem_embed.to(device))\n",
    "        x2 = torch.repeat_interleave(x2,x1.shape[0]).reshape([x2.shape[1],x1.shape[0]]).t()\n",
    "        x = torch.cat((x2, x1),1)\n",
    "        y = F.relu(self.dropout(self.common_1(x)))\n",
    "        y = F.relu(self.dropout(self.common_2(y)))\n",
    "        y = F.relu(self.common_3(y))\n",
    "        y1 = (self.final(y))\n",
    "\n",
    "        return torch.cat((y1, -y1),1)\n",
    "    \n",
    "    def forward_map_decode(self, grid_mem):\n",
    "        scores = self.map_decoder(grid_mem)\n",
    "        return torch.cat((scores, -scores), 1)\n",
    "\n",
    "    def train_K_decoder(self, imgs_in, xy_in, label_maps, K=350, min_seq_len=3, max_seq_len=10, \n",
    "                         max_epochs=10000, holdout=0, outfile=None):\n",
    "        print(\"starting training on prev\")\n",
    "        start = time.time()\n",
    "        rooms = range(K)\n",
    "        bs = 128\n",
    "        curr_hist = []\n",
    "        acc_hist = []\n",
    "        \n",
    "        room_data = []\n",
    "        for r in rooms:\n",
    "            for seq_len in range(min_seq_len, min(max_seq_len + 1, imgs_in[r].shape[0])):\n",
    "                room_data.append([r, seq_len])\n",
    "        room_data = np.array(room_data, dtype=int)\n",
    "        np.random.shuffle(room_data)\n",
    "        room_data = room_data[:int(len(room_data) * (1 - holdout))]\n",
    "        \n",
    "        print('total training data points: ', len(room_data))\n",
    "        for epoch in range(max_epochs):\n",
    "            if epoch % 100 == 99 and outfile:\n",
    "                torch.save(self.state_dict(), outfile + str(epoch+1) + 'ep.pth')\n",
    "            self.train()           \n",
    "            np.random.shuffle(room_data)\n",
    "                 \n",
    "            seq_images = []\n",
    "            j = 0\n",
    "            for r, seq_len in room_data:\n",
    "                #if j==0: print(r, seq_len, pred_idx)\n",
    "                element_idxs = np.random.choice(30, \n",
    "                                                seq_len, replace=False)\n",
    "                seq_images = imgs_in[r][element_idxs]\n",
    "                \n",
    "                seq_xy = xy_in[r][element_idxs]\n",
    "                \n",
    "#unsqueezes state,forward expects map,grid_mem initialized without batch axis                \n",
    "                pred = self.forward_map_decode(self.forward_write_seq(seq_xy, seq_images).unsqueeze(0))\n",
    "\n",
    "                loss_function = nn.CrossEntropyLoss()#weight=tensor([.25, 1.5]))\n",
    "                \n",
    "                self.optimizer.zero_grad()\n",
    "\n",
    "#                 pred = self.forward_2_batch(self.embedding, xy_list)\n",
    "                temp = self.sm(pred)[:,1]>0.5 #1x108x108\n",
    "                correct = (temp[0].long() == label_maps[r]) \n",
    "                acc = (float(torch.sum(correct))/(correct.shape[0] * correct.shape[1]))\n",
    "\n",
    "                loss = loss_function(pred, label_maps[r].unsqueeze(0))  # torch.tensor(1,dtype = torch.long))\n",
    "\n",
    "                loss.backward(retain_graph=True)\n",
    "\n",
    "                self.optimizer.step()\n",
    "                curr_hist.append(float(loss.data))\n",
    "                acc_hist.append(acc)\n",
    "                j += 1\n",
    "                if j % 1000 == 0:\n",
    "                    print(curr_hist[-1], acc)\n",
    "            \n",
    "            if epoch % 1 == 0:\n",
    "                vl, va = validate(self, range(min_seq_len, max_seq_len+1))\n",
    "                print('\\r epoch %d : trainloss %.4f  trainacc %.4f  valloss %.4f  valacc %.4f  time %.2f' % \n",
    "                          (epoch + 1, np.mean(curr_hist), np.mean(acc_hist), vl, va, time.time() - start))\n",
    "            \n",
    "            #print(np.mean(curr_hist))\n",
    "                hist.append(np.mean(curr_hist))\n",
    "                val_hist.append(vl)\n",
    "                curr_hist = []\n",
    "                acc_hist = []"
   ]
  },
  {
   "cell_type": "markdown",
   "metadata": {},
   "source": [
    "# Test"
   ]
  },
  {
   "cell_type": "code",
   "execution_count": 64,
   "metadata": {},
   "outputs": [],
   "source": [
    "def validate(model, seq_range, reps=5):\n",
    "        room_data = []\n",
    "        rooms = range(350, 400)\n",
    "        for r in rooms:\n",
    "            for seq_len in seq_range:\n",
    "                room_data.append([r, seq_len])\n",
    "        losses = []\n",
    "        accs = []  \n",
    "        for _ in range(reps):\n",
    "            #print(_)\n",
    "            model.eval()\n",
    "            np.random.shuffle(room_data)\n",
    "\n",
    "            for r, seq_len in room_data:\n",
    "                #if j==0: print(r, seq_len, pred_idx)\n",
    "                element_idxs = np.random.choice(range(30), \n",
    "                                                seq_len, replace=False)\n",
    "                \n",
    "                seq_images = imgs_in_f[r][element_idxs]\n",
    "                aug_xy = np.array(xc)/100\n",
    "                seq_xy = aug_xy[r][element_idxs]\n",
    "                pred = model.forward_map_decode(model.forward_write_seq(seq_xy, seq_images).unsqueeze(0))\n",
    "\n",
    "                loss_function = nn.CrossEntropyLoss()\n",
    "                \n",
    "                pred_class = model.sm(pred)[:,1]>0.5\n",
    "                #print(pred_class.shape)\n",
    "                coarse_maps = torch.tensor(true_maps,dtype = torch.long,device=device)\n",
    "                correct = (pred_class[0].long() == coarse_maps[r])\n",
    "                acc = (float(torch.sum(correct))/(correct.shape[0] * correct.shape[1]))\n",
    "\n",
    "                loss = loss_function(pred, coarse_maps[r].unsqueeze(0))  # torch.tensor(1,dtype = torch.long))\n",
    "                accs.append(acc)\n",
    "                losses.append(float(loss.data))\n",
    "        return np.mean(losses), np.mean(accs)"
   ]
  },
  {
   "cell_type": "code",
   "execution_count": 65,
   "metadata": {},
   "outputs": [],
   "source": [
    "imgs_in_f = tensor(np.stack(imgs_in)).unsqueeze(2)"
   ]
  },
  {
   "cell_type": "code",
   "execution_count": null,
   "metadata": {
    "scrolled": true
   },
   "outputs": [
    {
     "name": "stdout",
     "output_type": "stream",
     "text": [
      "starting training on prev\n",
      "total training data points:  2800\n",
      "0.36324572563171387 0.8547\n",
      "0.4495173692703247 0.7954\n",
      " epoch 1 : trainloss 0.3331  trainacc 0.8607  valloss 0.2898  valacc 0.8816  time 1063.71\n",
      "0.27220606803894043 0.8806\n",
      "0.26440078020095825 0.8722\n",
      " epoch 2 : trainloss 0.2736  trainacc 0.8900  valloss 0.2648  valacc 0.8933  time 2122.86\n",
      "0.19234611093997955 0.9223\n",
      "0.26507169008255005 0.8749\n",
      " epoch 3 : trainloss 0.2621  trainacc 0.8957  valloss 0.2540  valacc 0.8987  time 3183.43\n",
      "0.20601892471313477 0.9276\n",
      "0.28386372327804565 0.8869\n",
      " epoch 4 : trainloss 0.2523  trainacc 0.8998  valloss 0.2511  valacc 0.9001  time 4245.11\n",
      "0.28985661268234253 0.8857\n",
      "0.2801658809185028 0.9056\n",
      " epoch 5 : trainloss 0.2478  trainacc 0.9019  valloss 0.2627  valacc 0.8951  time 5308.58\n",
      "0.31663191318511963 0.8737\n",
      "0.21613159775733948 0.9128\n",
      " epoch 6 : trainloss 0.2444  trainacc 0.9036  valloss 0.2540  valacc 0.8995  time 6357.79\n",
      "0.20246168971061707 0.9189\n",
      "0.20466546714305878 0.9012\n",
      " epoch 7 : trainloss 0.2426  trainacc 0.9044  valloss 0.2411  valacc 0.9047  time 7406.14\n",
      "0.19556720554828644 0.9239\n",
      "0.19860216975212097 0.921\n",
      " epoch 8 : trainloss 0.2393  trainacc 0.9060  valloss 0.2429  valacc 0.9036  time 8450.16\n",
      "0.16436098515987396 0.9383\n",
      "0.27552667260169983 0.8983\n",
      " epoch 9 : trainloss 0.2371  trainacc 0.9071  valloss 0.2433  valacc 0.9037  time 9483.59\n",
      "0.15699997544288635 0.9401\n",
      "0.32352718710899353 0.8647\n",
      " epoch 10 : trainloss 0.2348  trainacc 0.9079  valloss 0.2351  valacc 0.9074  time 10522.43\n",
      "0.13741587102413177 0.9566\n",
      "0.1814545840024948 0.924\n",
      " epoch 11 : trainloss 0.2339  trainacc 0.9085  valloss 0.2338  valacc 0.9084  time 11548.63\n",
      "0.2580520808696747 0.8927\n",
      "0.22535957396030426 0.9074\n",
      " epoch 12 : trainloss 0.2331  trainacc 0.9088  valloss 0.2305  valacc 0.9096  time 12576.92\n",
      "0.1753232628107071 0.9366\n",
      "0.18244148790836334 0.9196\n",
      " epoch 13 : trainloss 0.2295  trainacc 0.9103  valloss 0.2334  valacc 0.9086  time 13603.94\n",
      "0.2313053458929062 0.9153\n",
      "0.44613271951675415 0.811\n",
      " epoch 14 : trainloss 0.2300  trainacc 0.9103  valloss 0.2331  valacc 0.9084  time 14643.79\n",
      "0.2601458728313446 0.903\n",
      "0.16817468404769897 0.934\n",
      " epoch 15 : trainloss 0.2284  trainacc 0.9111  valloss 0.2339  valacc 0.9076  time 15661.70\n",
      "0.18611587584018707 0.9292\n",
      "0.2624652683734894 0.896\n",
      " epoch 16 : trainloss 0.2277  trainacc 0.9112  valloss 0.2304  valacc 0.9096  time 16682.63\n",
      "0.2853042483329773 0.8898\n",
      "0.1529163122177124 0.9367\n"
     ]
    }
   ],
   "source": [
    "hist = []\n",
    "val_hist = []\n",
    "\n",
    "A=GVM()\n",
    "A.to(device)\n",
    "A.train_K_decoder(imgs_in_f,xc/100,torch.tensor(np.stack(true_maps),dtype = torch.long,device = device))\n"
   ]
  },
  {
   "cell_type": "code",
   "execution_count": null,
   "metadata": {},
   "outputs": [],
   "source": [
    "torch.save(A.state_dict(), '/home/azav/gvm')"
   ]
  },
  {
   "cell_type": "code",
   "execution_count": null,
   "metadata": {},
   "outputs": [],
   "source": [
    "aug_xy = np.array(xc)/100\n",
    "seq_xy = aug_xy[35][0:8]\n",
    "seq_images = tensor(np.stack(imgs_in_1)[35][0:8])\n",
    "pred = A.forward_map_decode(torch.stack(A.forward_write_seq(seq_xy, seq_images)[1]))"
   ]
  },
  {
   "cell_type": "code",
   "execution_count": null,
   "metadata": {},
   "outputs": [],
   "source": [
    "prediction=(A.sm(pred)[:,1]>0.5).detach().cpu().numpy()"
   ]
  },
  {
   "cell_type": "code",
   "execution_count": null,
   "metadata": {
    "scrolled": true
   },
   "outputs": [],
   "source": [
    "plt.imshow(prediction[7])"
   ]
  },
  {
   "cell_type": "code",
   "execution_count": 54,
   "metadata": {},
   "outputs": [
    {
     "data": {
      "text/plain": [
       "20.0"
      ]
     },
     "execution_count": 54,
     "metadata": {},
     "output_type": "execute_result"
    }
   ],
   "source": [
    "40/2"
   ]
  },
  {
   "cell_type": "code",
   "execution_count": null,
   "metadata": {},
   "outputs": [],
   "source": []
  }
 ],
 "metadata": {
  "kernelspec": {
   "display_name": "Python 3",
   "language": "python",
   "name": "python3"
  },
  "language_info": {
   "codemirror_mode": {
    "name": "ipython",
    "version": 3
   },
   "file_extension": ".py",
   "mimetype": "text/x-python",
   "name": "python",
   "nbconvert_exporter": "python",
   "pygments_lexer": "ipython3",
   "version": "3.6.8"
  }
 },
 "nbformat": 4,
 "nbformat_minor": 2
}
